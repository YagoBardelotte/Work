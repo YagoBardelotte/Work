{
 "cells": [
  {
   "cell_type": "code",
   "execution_count": null,
   "metadata": {},
   "outputs": [],
   "source": [
    "pip install xlsxwriter"
   ]
  },
  {
   "cell_type": "markdown",
   "metadata": {},
   "source": [
    "<h2>\n",
    "        ATTENTION!!<br>\n",
    "    </h2>\n",
    "    <h4>Lets check if the all the files are in order to run the code!</h4>\n",
    "    <ul>\n",
    "    <li>The files are in .csv format???</li>\n",
    "    <li>The columns aren't merged??</li>\n",
    "    </ul>\n",
    "    <p>If the anwser was yes to both questions...<br>\n",
    "    <h5>Then we can continue.</h5></p>"
   ]
  },
  {
   "cell_type": "code",
   "execution_count": null,
   "metadata": {},
   "outputs": [],
   "source": [
    "import pandas as pd\n",
    "import numpy as np"
   ]
  },
  {
   "cell_type": "code",
   "execution_count": null,
   "metadata": {},
   "outputs": [],
   "source": [
    "# IMPORT THE .CSV FILE, CLEANS THE USELESS COLUMNS, MODIFY AND ORGANIZE FOR DATE COLUMNS\n",
    "\n",
    "# NOTE: REMEMBER TO IMPORT THE CSV FILE TO THE JUPYTER NOTEBOOK BEFORE RUN THE CODE!!!\n",
    "\n",
    "df = pd.read_csv(\"Consulta_de_Pagamento_Fornecedor.csv\", sep = ';', encoding = 'iso-8859-1', error_bad_lines = False)\n",
    "\n",
    "df.drop(['Razão Social','Nome Banco','Agência','Data Entrada','Data Emissão','Valor Parcela','Valor Abatimento','Valor Documento', \\\n",
    "         'Valor Dedução','Data Vencimento','Data Pagamento','Valor Acréscimo','Selecionado',\\\n",
    "         \"Conferido\", \"Exportado\",\"Fornecedor\",\"Parcela\",\"Situação\",\"Situação Bancária Boleto\", \\\n",
    "         'N° Documento','N° Cheque','Tipo Pagamento'], axis = 1, inplace = True)\n",
    "\n",
    "df[\"Data Pagto Contábil\"] = df[\"Data Pagto Contábil\"].str.slice(stop = 10)\n",
    "\n",
    "df.fillna(np.nan)\n",
    "\n",
    "df.sort_values(by = [\"Data Pagto Contábil\",'Loja','Conta'], inplace = True)"
   ]
  },
  {
   "cell_type": "code",
   "execution_count": null,
   "metadata": {},
   "outputs": [],
   "source": [
    "# FUNCTION TO SAVE THE SEPARATED DATAFRAMES IN XLSX\n",
    "\n",
    "# NOTE: ISN'T BEING USED!!\n",
    "\n",
    "# def export(df):\n",
    "\n",
    "#     #INPUT: FILE NAME TO BE SAVED AND THE DATAFRAME\n",
    "#     #OUTPUT: FILE IN .XLSX FORMAT\n",
    "\n",
    "#     a=input()\n",
    "#     with pd.ExcelWriter((f'{a}.xlsx'), engine = 'xlsxwriter') as df_limpo:\n",
    "#         df.to_excel(df_limpo, sheet_name=(f'{a}'), index=False)\n",
    "#         df_limpo.save()"
   ]
  },
  {
   "cell_type": "code",
   "execution_count": null,
   "metadata": {},
   "outputs": [],
   "source": [
    "# FUNCTION TO SEPARATE THE DATAFRAME FOR STORE AND RETURNS A LIST WITH THE NAME OF EACH\\n\",\n",
    "\n",
    "def prep_arq(df):\n",
    "\n",
    "    deposito = df.loc[(df['Loja']) == ['DEPOSITO', 'WHAREOUSE']]\n",
    "    loja_01 = df.loc[(df['Loja']) == 'LOJA 01']\n",
    "    loja_03 = df.loc[(df['Loja']) == 'LOJA 03']\n",
    "    loja_04 = df.loc[(df['Loja']) == 'LOJA 04']\n",
    "    loja_05 = df.loc[(df['Loja']) == 'LOJA 05']\n",
    "    loja_07 = df.loc[(df['Loja']) == 'LOJA 07']\n",
    "    loja_08 = df.loc[(df['Loja']) == 'LOJA 08']\n",
    "    loja_09 = df.loc[(df['Loja']) == 'LOJA 09']\n",
    "\n",
    "    lojas = [deposito, loja_01, loja_03, loja_04, loja_05, loja_07, loja_08, loja_09]\n",
    "\n",
    "    nomes = []\n",
    "    \n",
    "    for i in df.groupby('Loja').indices.keys():\n",
    "        nomes.append(i)\n",
    "  \n",
    "    return(lojas,nomes)"
   ]
  },
  {
   "cell_type": "code",
   "execution_count": null,
   "metadata": {},
   "outputs": [],
   "source": [
    "# SEPARATE EACH DATAFRAME SAVED WITH prep_arq() FOR BANK ACCOUNT AND SAVE IN .XLSX FORMAT\\n\",\n",
    "\n",
    "def export_excel(df,loja):\n",
    "    \n",
    "    # CHANGE THE 'VALOR LÍQUIDO' COLUMN FROM CHAR TO NUMERIC\n",
    "\n",
    "    df['Valor Líquido'] = df['Valor Líquido'].apply(lambda x: float(x.replace('.','').replace(',','.')))\n",
    "\n",
    "    # INPUT: DATAFRAME TO BE TREATED\n",
    "    # OUTPUT: FILE SAVED IN XLSX SEPARATED FOR ACCOUNT\\n\",\n",
    "\n",
    "    print('1ª STEP: To know what and how many accounts which has the store payments!\\n\\n\\n')\n",
    "\n",
    "    # CREATE A LIST WITH THE INFORMED DATAFRAME ACCOUNTS\n",
    "\n",
    "    bco = []\n",
    "    for x in df.groupby('Conta').indices.keys():\n",
    "        bco.append(x)\n",
    "\n",
    "    # NAME THE STORE FOR LATER USE\n",
    "\n",
    "    print(f'Exist {len(bco)} accounts where they have payments from {loja}!\\n\\\\n')\n",
    "\n",
    "    print('2ª STEP: To create files to be cleaned and concatenate all in one work directory with many spreadsheets\\n\\n\\n')\n",
    "\n",
    "    # The function separa_contas() creates new df for each bank account and saves all in one single excel file\\n\",\n",
    "\n",
    "    def separa_contas(loja,bco,df):\n",
    "        \n",
    "        with pd.ExcelWriter((f'{loja}.xlsx'), engine = 'xlsxwriter') as df_limpo:\n",
    "\n",
    "            df.to_excel(df_limpo, sheet_name=(f'Pgtos{loja}'), index=False)\\\n",
    "            print('The first spreadsheet contains all the payments of all bank accounts!\\n')\n",
    "\n",
    "            \"Prepares the df to fill the debit and credit columns\\n\",\n",
    " \n",
    "            df['importação'] = 'importação'\n",
    "            df['Data'] = df['Data Pagto Contábil']\n",
    "            df['Valor'] = df['Valor Líquido']\n",
    "            df['Debito'] = ''\n",
    "            df['Credito'] = ''\n",
    "            df['Historico'] = df['Tipo Entrada']\n",
    "            df['Historico2'] = df['Observação']\n",
    "            df.drop(['Data Pagto Contábil','Tipo Entrada','Observação','Loja','Valor Líquido','Banco'],axis = 1, inplace = True)\n",
    "\n",
    "            # Separate the df\n",
    "\n",
    "            for i in range(len(bco)):\n",
    "                s = bco[i]\n",
    "                print(f'A {i + 1}ª conta é:{s}')\n",
    "                print(f'O nome da aba na planilha ficou: {s}_Pgto_{loja}\\n')\n",
    "                bco[i] = df.loc[(df['Conta']) == s]\n",
    "                bco[i].drop(['Conta'],axis = 1, inplace = True)\n",
    "                bco[i].to_excel(df_limpo, sheet_name = (f'{s}Pgto{loja}'), index = False)\n",
    "\n",
    "            df.drop(['Conta'], axis = 1, inplace = True)\n",
    "            df_limpo.save()\n",
    "\n",
    "        print('File Saved!')\n",
    "\n",
    "    separa_contas(loja,bco,df)"
   ]
  },
  {
   "cell_type": "code",
   "execution_count": null,
   "metadata": {},
   "outputs": [],
   "source": [
    "# Where everything happens...\n",
    "\n",
    "df,lojas = prep_arq(df)\n",
    "for i in range(len(df)):\n",
    "    loja = lojas[i]\n",
    "    export_excel(df[i],loja)"
   ]
  },
  {
   "cell_type": "markdown",
   "metadata": {},
   "source": [
    "EUREKA! Your files are ready to use!\n",
    "========================================"
   ]
  }
 ],
 "metadata": {
  "kernelspec": {
   "display_name": "Python 3.7.7 64-bit ('work': conda)",
   "language": "python",
   "name": "python37764bitworkcondadf40215020004c609c297c159f84a932"
  },
  "language_info": {
   "codemirror_mode": {
    "name": "ipython",
    "version": 3
   },
   "file_extension": ".py",
   "mimetype": "text/x-python",
   "name": "python",
   "nbconvert_exporter": "python",
   "pygments_lexer": "ipython3",
   "version": "3.7.7-final"
  }
 },
 "nbformat": 4,
 "nbformat_minor": 2
}